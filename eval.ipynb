{
 "cells": [
  {
   "cell_type": "code",
   "execution_count": 15,
   "metadata": {},
   "outputs": [],
   "source": [
    "import json\n",
    "from datasets import load_dataset\n",
    "\n",
    "ds = load_dataset(\"Aoschu/German_invoices_dataset_for_donut\")[\"train\"]"
   ]
  },
  {
   "cell_type": "code",
   "execution_count": 39,
   "metadata": {},
   "outputs": [],
   "source": [
    "def load_sample(sample):\n",
    "    return sample[\"image\"], json.loads(sample[\"ground_truth\"])[\"gt_parse\"][\"transcription\"]\n",
    "\n",
    "img, transcriptions = load_sample(ds[0])"
   ]
  },
  {
   "cell_type": "code",
   "execution_count": 42,
   "metadata": {},
   "outputs": [],
   "source": [
    "import asyncio\n",
    "import openai\n",
    "import instructor\n",
    "from pydantic import BaseModel\n",
    "import weave\n",
    "\n",
    "weave.init(\"german_invoices_eval\")\n",
    "\n",
    "client = instructor.from_openai(openai.AsyncOpenAI())\n",
    "\n",
    "class QuestionAnswer(BaseModel):\n",
    "    question: str\n",
    "    answer: str\n",
    "\n",
    "@weave.op\n",
    "async def create_question_answer_pairs(transcriptions: list[str]) -> list[QuestionAnswer]:\n",
    "    \"Call openai to create question answer pairs\"\n",
    "    messages = [\n",
    "        {\n",
    "            \"role\": \"system\",\n",
    "            \"content\": \"You are a helpful assistant that creates question answer pairs from a given text. The text is a list of OCR output from a german invoice data.\",\n",
    "        },\n",
    "        {\n",
    "            \"role\": \"user\",\n",
    "            \"content\": f\"Create 5 question answer pairs from the following text: {transcriptions}\",\n",
    "        },\n",
    "    ]\n",
    "    response = await client.chat.completions.create(\n",
    "        model=\"gpt-4o\",\n",
    "        messages=messages,\n",
    "        response_model=list[QuestionAnswer],\n",
    "    )\n",
    "    return response"
   ]
  },
  {
   "cell_type": "code",
   "execution_count": 45,
   "metadata": {},
   "outputs": [
    {
     "name": "stderr",
     "output_type": "stream",
     "text": [
      "Processing samples: 100%|██████████| 97/97 [00:10<00:00,  9.26it/s]\n"
     ]
    }
   ],
   "source": [
    "from tqdm.asyncio import tqdm_asyncio\n",
    "\n",
    "async def process_sample(sample):\n",
    "    img, transcriptions = load_sample(sample)\n",
    "    qa_pairs = await create_question_answer_pairs(transcriptions)\n",
    "    return {\"image\": img, \"qa_pairs\": qa_pairs}\n",
    "\n",
    "async def process_all_samples():\n",
    "    tasks = [process_sample(sample) for sample in ds]\n",
    "    qa_ds = await tqdm_asyncio.gather(*tasks, desc=\"Processing samples\")\n",
    "    return qa_ds\n",
    "\n",
    "qa_ds = await process_all_samples()"
   ]
  },
  {
   "cell_type": "code",
   "execution_count": 46,
   "metadata": {},
   "outputs": [
    {
     "data": {
      "text/plain": [
       "{'image': <PIL.JpegImagePlugin.JpegImageFile image mode=RGB size=1414x2000>,\n",
       " 'qa_pairs': [QuestionAnswer(question='What is the name of the architect office mentioned in the text?', answer='Architekturburo Eickholzer'),\n",
       "  QuestionAnswer(question='What is the offer number provided in the text?', answer='1234'),\n",
       "  QuestionAnswer(question='What is the total gross amount quoted in the offer?', answer='7.735,00€'),\n",
       "  QuestionAnswer(question='Who is the offer addressed to?', answer='Frau Mia Hobner'),\n",
       "  QuestionAnswer(question='What is the date of the offer?', answer='29.07.2030')]}"
      ]
     },
     "execution_count": 46,
     "metadata": {},
     "output_type": "execute_result"
    }
   ],
   "source": [
    "qa_ds[0]"
   ]
  },
  {
   "cell_type": "code",
   "execution_count": 62,
   "metadata": {},
   "outputs": [],
   "source": [
    "qa_ds_list = [{\"image\": sample[\"image\"], \n",
    "  \"qa_pairs\": [{\"question\": qa_pair.question, \n",
    "                \"answer\": qa_pair.answer} for qa_pair in sample[\"qa_pairs\"]]} \n",
    " for sample in qa_ds]"
   ]
  },
  {
   "cell_type": "code",
   "execution_count": 63,
   "metadata": {},
   "outputs": [],
   "source": [
    "weave_ds = weave.Dataset(name=\"qa_german_invoices\", \n",
    "              description=\"Question answer pairs created from a german invoice dataset\",\n",
    "              rows=qa_ds_list)"
   ]
  },
  {
   "cell_type": "code",
   "execution_count": 64,
   "metadata": {},
   "outputs": [
    {
     "name": "stdout",
     "output_type": "stream",
     "text": [
      "📦 Published to https://wandb.ai/capecape/german_invoices_eval/weave/objects/qa_german_invoices/versions/vKjWelZ7XSrdFwWxKHaAMgGXKfLrXGkPphMJxP340EQ\n"
     ]
    },
    {
     "data": {
      "text/plain": [
       "ObjectRef(entity='capecape', project='german_invoices_eval', name='qa_german_invoices', digest='vKjWelZ7XSrdFwWxKHaAMgGXKfLrXGkPphMJxP340EQ', extra=())"
      ]
     },
     "execution_count": 64,
     "metadata": {},
     "output_type": "execute_result"
    }
   ],
   "source": [
    "weave.publish(weave_ds)"
   ]
  },
  {
   "cell_type": "code",
   "execution_count": null,
   "metadata": {},
   "outputs": [],
   "source": []
  }
 ],
 "metadata": {
  "kernelspec": {
   "display_name": "weave",
   "language": "python",
   "name": "python3"
  },
  "language_info": {
   "codemirror_mode": {
    "name": "ipython",
    "version": 3
   },
   "file_extension": ".py",
   "mimetype": "text/x-python",
   "name": "python",
   "nbconvert_exporter": "python",
   "pygments_lexer": "ipython3",
   "version": "3.11.8"
  }
 },
 "nbformat": 4,
 "nbformat_minor": 2
}
