{
 "cells": [
  {
   "cell_type": "code",
   "execution_count": 15,
   "metadata": {},
   "outputs": [],
   "source": [
    "import json\n",
    "from datasets import load_dataset\n",
    "\n",
    "ds = load_dataset(\"Aoschu/German_invoices_dataset_for_donut\")[\"train\"]"
   ]
  },
  {
   "cell_type": "code",
   "execution_count": 16,
   "metadata": {},
   "outputs": [],
   "source": [
    "def load_sample(sample):\n",
    "    return sample[\"image\"], json.loads(sample[\"ground_truth\"])[\"gt_parse\"][\"transcription\"]\n",
    "\n",
    "img, transcriptions = load_sample(ds[0])"
   ]
  },
  {
   "cell_type": "code",
   "execution_count": 17,
   "metadata": {},
   "outputs": [],
   "source": [
    "import asyncio\n",
    "import openai\n",
    "import instructor\n",
    "from pydantic import BaseModel\n",
    "import weave\n",
    "import io, base64\n",
    "from typing import Union\n",
    "from PIL import Image\n",
    "\n",
    "weave.init(\"german_invoices_eval\")\n",
    "\n",
    "client = instructor.from_openai(openai.AsyncOpenAI())\n",
    "\n",
    "class QuestionAnswer(BaseModel):\n",
    "    question: str\n",
    "    answer: str\n",
    "\n",
    "def image_to_base64(image_path: Union[str, Image]) -> str:\n",
    "    image = Image.open(image_path) if isinstance(image_path, str) else image_path\n",
    "    byte_arr = io.BytesIO()\n",
    "    image.save(byte_arr, format=\"PNG\")\n",
    "    encoded_string = base64.b64encode(byte_arr.getvalue()).decode(\"utf-8\")\n",
    "    return str(encoded_string)\n",
    "\n",
    "@weave.op\n",
    "async def create_question_answer_pairs(image: Image, transcriptions: list[str]) -> list[QuestionAnswer]:\n",
    "    \"Call openai to create question answer pairs\"\n",
    "    image_base64 = image_to_base64(image)\n",
    "    messages = [\n",
    "        {\n",
    "            \"role\": \"system\",\n",
    "            \"content\": \"You are a helpful assistant that creates question answer pairs from a given text. The text is a list of OCR output from a german invoice data.\",\n",
    "        },\n",
    "        {\n",
    "            \"role\": \"user\",\n",
    "            \"content\": [\n",
    "                {\n",
    "                    \"type\":\"text\",\n",
    "                    \"text\": f\"Here are the different OCR extractions from the document: {transcriptions}. \\\n",
    "                        Create 5 question answer pairs based on the image and the extracted text. \\\n",
    "                        Write the questions and answers in German.\"\n",
    "                },  \n",
    "                {\n",
    "                    \"type\": \"image_url\",\n",
    "                    \"image_url\": {\n",
    "                        \"url\": f\"data:image/jpeg;base64,{image_base64}\",\n",
    "                    },\n",
    "                },\n",
    "            ],\n",
    "        },\n",
    "    ]\n",
    "    response = await client.chat.completions.create(\n",
    "        model=\"gpt-4o\",\n",
    "        messages=messages,\n",
    "        response_model=list[QuestionAnswer],\n",
    "    )\n",
    "    return response"
   ]
  },
  {
   "cell_type": "code",
   "execution_count": 18,
   "metadata": {},
   "outputs": [
    {
     "name": "stdout",
     "output_type": "stream",
     "text": [
      "🍩 https://wandb.ai/capecape/german_invoices_eval/r/call/0192335b-80d2-76e1-a4b2-8f01b8038a1b\n"
     ]
    },
    {
     "data": {
      "text/plain": [
       "[QuestionAnswer(question='Wer ist der Anbieter des Angebots?', answer='Paul Cheung'),\n",
       " QuestionAnswer(question='Auf welches Datum ist das Angebot datiert?', answer='29.07.2030'),\n",
       " QuestionAnswer(question='Was ist die Angebotsnummer?', answer='1234'),\n",
       " QuestionAnswer(question='Wie lautet die Kundenadresse?', answer='Frau Mia Hobner, Zwinglistr. 67, 54321 Münster'),\n",
       " QuestionAnswer(question='Was ist der Gesamtbetrag des Angebots?', answer='7.735,00 €')]"
      ]
     },
     "execution_count": 18,
     "metadata": {},
     "output_type": "execute_result"
    }
   ],
   "source": [
    "qa_pairs = await create_question_answer_pairs(img, transcriptions)\n",
    "qa_pairs"
   ]
  },
  {
   "cell_type": "code",
   "execution_count": 19,
   "metadata": {},
   "outputs": [
    {
     "name": "stderr",
     "output_type": "stream",
     "text": []
    },
    {
     "name": "stdout",
     "output_type": "stream",
     "text": [
      "🍩 https://wandb.ai/capecape/german_invoices_eval/r/call/0192335b-cdc1-7782-9c54-039ab69d51f1\n",
      "🍩 https://wandb.ai/capecape/german_invoices_eval/r/call/0192335b-a516-77d1-9647-07b1a08b262c\n",
      "🍩 https://wandb.ai/capecape/german_invoices_eval/r/call/0192335b-9d0d-7303-8ded-7997480932f0\n"
     ]
    },
    {
     "name": "stderr",
     "output_type": "stream",
     "text": []
    },
    {
     "name": "stdout",
     "output_type": "stream",
     "text": [
      "🍩 https://wandb.ai/capecape/german_invoices_eval/r/call/0192335b-ad53-75e0-86f2-c43adb3564e7\n",
      "🍩 https://wandb.ai/capecape/german_invoices_eval/r/call/0192335b-9cd1-79a3-bbce-bde13e0273af\n",
      "🍩 https://wandb.ai/capecape/german_invoices_eval/r/call/0192335b-ca57-7871-bed6-0411aea81d67\n",
      "🍩 https://wandb.ai/capecape/german_invoices_eval/r/call/0192335b-b2fa-7081-a17b-2850425cb6f8\n",
      "🍩 https://wandb.ai/capecape/german_invoices_eval/r/call/0192335b-9c03-7ea3-a753-dac2cc7315be\n",
      "🍩 https://wandb.ai/capecape/german_invoices_eval/r/call/0192335b-a1df-7520-9a0e-325493703344\n"
     ]
    },
    {
     "name": "stderr",
     "output_type": "stream",
     "text": []
    },
    {
     "name": "stdout",
     "output_type": "stream",
     "text": [
      "🍩 https://wandb.ai/capecape/german_invoices_eval/r/call/0192335b-ca13-7bc2-83d5-9b3503d80349\n",
      "🍩 https://wandb.ai/capecape/german_invoices_eval/r/call/0192335b-a0c0-70e3-a782-b9bfc8aaef62\n",
      "🍩 https://wandb.ai/capecape/german_invoices_eval/r/call/0192335b-97f4-7612-8ad7-90c78b8d75e3\n"
     ]
    },
    {
     "name": "stderr",
     "output_type": "stream",
     "text": []
    },
    {
     "name": "stdout",
     "output_type": "stream",
     "text": [
      "🍩 https://wandb.ai/capecape/german_invoices_eval/r/call/0192335b-97c9-77a1-bfd5-be79e05addf0\n",
      "🍩 https://wandb.ai/capecape/german_invoices_eval/r/call/0192335b-a5f5-78f0-8fc0-1b6388d05aa6\n",
      "🍩 https://wandb.ai/capecape/german_invoices_eval/r/call/0192335b-cb60-7f41-b709-6f40cc3e4592\n",
      "🍩 https://wandb.ai/capecape/german_invoices_eval/r/call/0192335b-b821-7372-9d36-c9ec57c298b2\n",
      "🍩 https://wandb.ai/capecape/german_invoices_eval/r/call/0192335b-a2a6-7021-b31e-4c65c869473b\n",
      "🍩 https://wandb.ai/capecape/german_invoices_eval/r/call/0192335b-9dc7-70c3-8d94-08ef42abfd47\n"
     ]
    },
    {
     "name": "stderr",
     "output_type": "stream",
     "text": []
    },
    {
     "name": "stdout",
     "output_type": "stream",
     "text": [
      "🍩 https://wandb.ai/capecape/german_invoices_eval/r/call/0192335b-a476-7b63-9c38-96ffb4148adf\n",
      "🍩 https://wandb.ai/capecape/german_invoices_eval/r/call/0192335b-cc20-7970-a4f5-06d1d7ecb707\n",
      "🍩 https://wandb.ai/capecape/german_invoices_eval/r/call/0192335b-cc8b-7840-a1d8-abb817be22ec\n",
      "🍩 https://wandb.ai/capecape/german_invoices_eval/r/call/0192335b-9e25-7923-8ee8-bd178e6ae97f\n",
      "🍩 https://wandb.ai/capecape/german_invoices_eval/r/call/0192335b-982f-75f3-8b91-ef0106949e74\n",
      "🍩 https://wandb.ai/capecape/german_invoices_eval/r/call/0192335b-a3d0-7ec0-aba8-ac15666978bb\n"
     ]
    },
    {
     "name": "stderr",
     "output_type": "stream",
     "text": []
    },
    {
     "name": "stdout",
     "output_type": "stream",
     "text": [
      "🍩 https://wandb.ai/capecape/german_invoices_eval/r/call/0192335b-a970-7180-b10e-abbc7e454602\n",
      "🍩 https://wandb.ai/capecape/german_invoices_eval/r/call/0192335b-cc56-76e3-81a2-cc068fba15ab\n",
      "🍩 https://wandb.ai/capecape/german_invoices_eval/r/call/0192335b-9df6-7f90-8ac1-8a8d3a350489\n",
      "🍩 https://wandb.ai/capecape/german_invoices_eval/r/call/0192335b-9bb8-7e71-94db-f2b3cba9943c\n",
      "🍩 https://wandb.ai/capecape/german_invoices_eval/r/call/0192335b-a7e2-7603-8eb7-a60164fcff8f\n",
      "🍩 https://wandb.ai/capecape/german_invoices_eval/r/call/0192335b-9fac-7900-beaa-46ce9cedf094\n"
     ]
    },
    {
     "name": "stderr",
     "output_type": "stream",
     "text": []
    },
    {
     "name": "stdout",
     "output_type": "stream",
     "text": [
      "🍩 https://wandb.ai/capecape/german_invoices_eval/r/call/0192335b-c0de-7db0-a2f2-c48aa8053b32\n",
      "🍩 https://wandb.ai/capecape/german_invoices_eval/r/call/0192335b-ba03-7b40-856c-4d4216f74299\n",
      "🍩 https://wandb.ai/capecape/german_invoices_eval/r/call/0192335b-a9d8-7000-ab3a-f493b87c1026\n",
      "🍩 https://wandb.ai/capecape/german_invoices_eval/r/call/0192335b-9c25-7590-a8fb-ad8de65aac96\n",
      "🍩 https://wandb.ai/capecape/german_invoices_eval/r/call/0192335b-9870-7251-b62f-5876e9f99d2f\n",
      "🍩 https://wandb.ai/capecape/german_invoices_eval/r/call/0192335b-cb2a-7953-aa34-9936ef7a0436\n"
     ]
    },
    {
     "name": "stderr",
     "output_type": "stream",
     "text": []
    },
    {
     "name": "stdout",
     "output_type": "stream",
     "text": [
      "🍩 https://wandb.ai/capecape/german_invoices_eval/r/call/0192335b-af79-7261-ba0d-73f4abcf4880\n",
      "🍩 https://wandb.ai/capecape/german_invoices_eval/r/call/0192335b-96c4-7f13-b2ba-c4737d4a549b\n",
      "🍩 https://wandb.ai/capecape/german_invoices_eval/r/call/0192335b-aeaa-7221-ac3d-8dad878c7b66\n",
      "🍩 https://wandb.ai/capecape/german_invoices_eval/r/call/0192335b-bc84-70c0-b5e0-be6613dad220\n",
      "🍩 https://wandb.ai/capecape/german_invoices_eval/r/call/0192335b-b3e1-76f2-b39e-1471a121b7ad\n"
     ]
    },
    {
     "name": "stderr",
     "output_type": "stream",
     "text": []
    },
    {
     "name": "stdout",
     "output_type": "stream",
     "text": [
      "🍩 https://wandb.ai/capecape/german_invoices_eval/r/call/0192335b-bd96-7772-8e7c-28c35fe72850\n",
      "🍩 https://wandb.ai/capecape/german_invoices_eval/r/call/0192335b-b6aa-73d0-9d39-f200e51693db\n",
      "🍩 https://wandb.ai/capecape/german_invoices_eval/r/call/0192335b-aa0b-7262-88ce-b659627b02dc\n",
      "🍩 https://wandb.ai/capecape/german_invoices_eval/r/call/0192335b-b1bf-7872-9ad6-5477db41bf52\n",
      "🍩 https://wandb.ai/capecape/german_invoices_eval/r/call/0192335b-9ff2-7aa3-9d1b-5b6e6b221ef9\n",
      "🍩 https://wandb.ai/capecape/german_invoices_eval/r/call/0192335b-9727-7c01-8211-5e4c9c18dcf4\n",
      "🍩 https://wandb.ai/capecape/german_invoices_eval/r/call/0192335b-cb84-7c01-9f5a-2e1bac587625\n",
      "🍩 https://wandb.ai/capecape/german_invoices_eval/r/call/0192335b-9d3b-7f21-9425-88e816ffc6ce\n",
      "🍩 https://wandb.ai/capecape/german_invoices_eval/r/call/0192335b-cdf4-7ac1-ba3b-d2b38580aafe\n",
      "🍩 https://wandb.ai/capecape/german_invoices_eval/r/call/0192335b-a69e-75a3-81c2-1d8f9056820d\n",
      "🍩 https://wandb.ai/capecape/german_invoices_eval/r/call/0192335b-b58b-7220-96fe-8eddce5585f7\n",
      "🍩 https://wandb.ai/capecape/german_invoices_eval/r/call/0192335b-c125-7a63-82c7-934641d8d2af\n"
     ]
    },
    {
     "name": "stderr",
     "output_type": "stream",
     "text": []
    },
    {
     "name": "stdout",
     "output_type": "stream",
     "text": [
      "🍩 https://wandb.ai/capecape/german_invoices_eval/r/call/0192335b-bddc-77e2-9407-3a3615e1a831\n",
      "🍩 https://wandb.ai/capecape/german_invoices_eval/r/call/0192335b-ca87-7700-ace5-7f1615075534\n",
      "🍩 https://wandb.ai/capecape/german_invoices_eval/r/call/0192335b-9add-7ba2-a9ee-48c8a1564a86\n",
      "🍩 https://wandb.ai/capecape/german_invoices_eval/r/call/0192335b-9625-7663-abf5-32e13b0f04d8\n",
      "🍩 https://wandb.ai/capecape/german_invoices_eval/r/call/0192335b-b752-74e2-862e-915a85ab1de5\n",
      "🍩 https://wandb.ai/capecape/german_invoices_eval/r/call/0192335b-a207-7e20-8f92-b2cfe0d9545e\n"
     ]
    },
    {
     "name": "stderr",
     "output_type": "stream",
     "text": []
    },
    {
     "name": "stdout",
     "output_type": "stream",
     "text": [
      "🍩 https://wandb.ai/capecape/german_invoices_eval/r/call/0192335b-a54c-70c3-9a3c-49e3b7bc0b59\n",
      "🍩 https://wandb.ai/capecape/german_invoices_eval/r/call/0192335b-ab35-7711-8f2e-92dc194610b0\n",
      "🍩 https://wandb.ai/capecape/german_invoices_eval/r/call/0192335b-996b-7de0-bbd3-b5bdcd873e92\n",
      "🍩 https://wandb.ai/capecape/german_invoices_eval/r/call/0192335b-cd4a-73d2-a2f4-bd6551983bc5\n",
      "🍩 https://wandb.ai/capecape/german_invoices_eval/r/call/0192335b-99a5-7b02-a955-18b4c80649cb\n",
      "🍩 https://wandb.ai/capecape/german_invoices_eval/r/call/0192335b-b322-7073-9557-7d36b865ed12\n"
     ]
    },
    {
     "name": "stderr",
     "output_type": "stream",
     "text": []
    },
    {
     "name": "stdout",
     "output_type": "stream",
     "text": [
      "🍩 https://wandb.ai/capecape/german_invoices_eval/r/call/0192335b-b48e-73d0-8d1a-b1bf0a7eaca3\n",
      "🍩 https://wandb.ai/capecape/german_invoices_eval/r/call/0192335b-b526-7741-a0d7-97ef2be57f6d\n",
      "🍩 https://wandb.ai/capecape/german_invoices_eval/r/call/0192335b-9b87-7e92-8807-f9849be94aac\n",
      "🍩 https://wandb.ai/capecape/german_invoices_eval/r/call/0192335b-bea7-7b20-88cd-75aec2f3cc7f\n",
      "🍩 https://wandb.ai/capecape/german_invoices_eval/r/call/0192335b-aede-7e60-9c57-14280398c23c\n",
      "🍩 https://wandb.ai/capecape/german_invoices_eval/r/call/0192335b-a72f-7641-b351-bb76a2b73de5\n"
     ]
    },
    {
     "name": "stderr",
     "output_type": "stream",
     "text": []
    },
    {
     "name": "stdout",
     "output_type": "stream",
     "text": [
      "🍩 https://wandb.ai/capecape/german_invoices_eval/r/call/0192335b-b853-7851-a773-0ff991be3ba8\n",
      "🍩 https://wandb.ai/capecape/german_invoices_eval/r/call/0192335b-a362-7b82-9a22-7260e94ec436\n",
      "🍩 https://wandb.ai/capecape/german_invoices_eval/r/call/0192335b-b00c-7a50-9934-175a9d8b4d91\n",
      "🍩 https://wandb.ai/capecape/german_invoices_eval/r/call/0192335b-9eeb-7b72-9898-db350fbeb576\n",
      "🍩 https://wandb.ai/capecape/german_invoices_eval/r/call/0192335b-ab8a-78a0-bec2-b8f694adedea\n",
      "🍩 https://wandb.ai/capecape/german_invoices_eval/r/call/0192335b-ba21-7733-970a-9fd40df9b24e\n",
      "🍩 https://wandb.ai/capecape/german_invoices_eval/r/call/0192335b-a114-7e70-9617-d70d4fdd15ab\n",
      "🍩 https://wandb.ai/capecape/german_invoices_eval/r/call/0192335b-a016-7471-aec5-d3b4fc94e75e\n",
      "🍩 https://wandb.ai/capecape/german_invoices_eval/r/call/0192335b-c6df-73f2-ae89-01a3f1150cff\n",
      "🍩 https://wandb.ai/capecape/german_invoices_eval/r/call/0192335b-a803-7bc3-8603-fa6b28abac82\n",
      "🍩 https://wandb.ai/capecape/german_invoices_eval/r/call/0192335b-9aaf-7791-a64f-3a3493ba0f8b\n",
      "🍩 https://wandb.ai/capecape/german_invoices_eval/r/call/0192335b-c627-7a22-ace8-1b6a5dfd27f1\n"
     ]
    },
    {
     "name": "stderr",
     "output_type": "stream",
     "text": []
    },
    {
     "name": "stdout",
     "output_type": "stream",
     "text": [
      "🍩 https://wandb.ai/capecape/german_invoices_eval/r/call/0192335b-bb39-77f2-99dc-1e0a1dbb64b0\n",
      "🍩 https://wandb.ai/capecape/german_invoices_eval/r/call/0192335b-b5bc-74d0-9bd5-1a7877a53770\n",
      "🍩 https://wandb.ai/capecape/german_invoices_eval/r/call/0192335b-9c90-79f2-a7d7-2b641c942956\n",
      "🍩 https://wandb.ai/capecape/german_invoices_eval/r/call/0192335b-a13a-76e2-abfb-ebbc2daad12d\n"
     ]
    },
    {
     "name": "stderr",
     "output_type": "stream",
     "text": []
    },
    {
     "name": "stdout",
     "output_type": "stream",
     "text": [
      "🍩 https://wandb.ai/capecape/german_invoices_eval/r/call/0192335b-b1e0-7801-a0bd-fca7f6d72b82\n",
      "🍩 https://wandb.ai/capecape/german_invoices_eval/r/call/0192335b-975e-7b80-ab5e-bc9a0054d600\n",
      "🍩 https://wandb.ai/capecape/german_invoices_eval/r/call/0192335b-aab3-72d0-862b-f5095ec5c9ad\n"
     ]
    },
    {
     "name": "stderr",
     "output_type": "stream",
     "text": []
    },
    {
     "name": "stdout",
     "output_type": "stream",
     "text": [
      "🍩 https://wandb.ai/capecape/german_invoices_eval/r/call/0192335b-b919-7f41-9ef5-431c46516fec\n",
      "🍩 https://wandb.ai/capecape/german_invoices_eval/r/call/0192335b-c729-7b40-8190-c17a6b741ef2\n"
     ]
    },
    {
     "name": "stderr",
     "output_type": "stream",
     "text": []
    },
    {
     "name": "stdout",
     "output_type": "stream",
     "text": [
      "🍩 https://wandb.ai/capecape/german_invoices_eval/r/call/0192335b-bf2e-7230-a5c9-f19557107cfa\n",
      "🍩 https://wandb.ai/capecape/german_invoices_eval/r/call/0192335b-bfee-7e53-9dae-3f4e0339579e\n",
      "🍩 https://wandb.ai/capecape/german_invoices_eval/r/call/0192335b-bce5-7202-b311-b8841282b15d\n"
     ]
    },
    {
     "name": "stderr",
     "output_type": "stream",
     "text": [
      "Processing samples: 100%|██████████| 97/97 [00:24<00:00,  3.93it/s]"
     ]
    },
    {
     "name": "stdout",
     "output_type": "stream",
     "text": [
      "🍩 https://wandb.ai/capecape/german_invoices_eval/r/call/0192335b-c1d8-7640-af8a-a088afa9eb98\n",
      "🍩 https://wandb.ai/capecape/german_invoices_eval/r/call/0192335b-9185-7c73-ae66-ef6ca0f90427\n"
     ]
    },
    {
     "name": "stderr",
     "output_type": "stream",
     "text": [
      "\n"
     ]
    }
   ],
   "source": [
    "from tqdm.asyncio import tqdm_asyncio\n",
    "\n",
    "async def process_sample(sample):\n",
    "    img, transcriptions = load_sample(sample)\n",
    "    qa_pairs = await create_question_answer_pairs(img, transcriptions)\n",
    "    return {\"image\": img, \"qa_pairs\": qa_pairs}\n",
    "\n",
    "async def process_all_samples():\n",
    "    tasks = [process_sample(sample) for sample in ds]\n",
    "    qa_ds = await tqdm_asyncio.gather(*tasks, desc=\"Processing samples\")\n",
    "    return qa_ds\n",
    "\n",
    "qa_ds = await process_all_samples()"
   ]
  },
  {
   "cell_type": "code",
   "execution_count": 20,
   "metadata": {},
   "outputs": [],
   "source": [
    "qa_ds_list = [{\"image\": sample[\"image\"], \n",
    "  \"qa_pairs\": [{\"question\": qa_pair.question, \n",
    "                \"answer\": qa_pair.answer} for qa_pair in sample[\"qa_pairs\"]]} \n",
    " for sample in qa_ds]"
   ]
  },
  {
   "cell_type": "code",
   "execution_count": 21,
   "metadata": {},
   "outputs": [
    {
     "name": "stderr",
     "output_type": "stream",
     "text": [
      "Saving the dataset (1/1 shards): 100%|██████████| 97/97 [00:00<00:00, 6077.70 examples/s]\n"
     ]
    }
   ],
   "source": [
    "# save to hf datasets\n",
    "from datasets import Dataset\n",
    "\n",
    "qa_ds = Dataset.from_list(qa_ds_list)\n",
    "\n",
    "qa_ds.save_to_disk(\"qa_german_invoices_formatted\")"
   ]
  },
  {
   "cell_type": "code",
   "execution_count": 22,
   "metadata": {},
   "outputs": [],
   "source": [
    "from datasets import load_from_disk\n",
    "ds = load_from_disk(\"qa_german_invoices_formatted\")"
   ]
  },
  {
   "cell_type": "code",
   "execution_count": 23,
   "metadata": {},
   "outputs": [
    {
     "data": {
      "text/plain": [
       "{'image': <PIL.JpegImagePlugin.JpegImageFile image mode=RGB size=1414x2000>,\n",
       " 'qa_pairs': [{'answer': 'Paul Cheung',\n",
       "   'question': 'Wer ist der Absender des Angebots?'},\n",
       "  {'answer': 'Frau Mia Hobner',\n",
       "   'question': 'An wen ist das Angebot gerichtet?'},\n",
       "  {'answer': '1234', 'question': 'Was ist die Angebotsnummer?'},\n",
       "  {'answer': '7.735,00 €',\n",
       "   'question': 'Wie hoch ist der Gesamtbetrag inklusive Umsatzsteuer?'},\n",
       "  {'answer': 'Am 29.07.2030', 'question': 'Wann wurde das Angebot erstellt?'}]}"
      ]
     },
     "execution_count": 23,
     "metadata": {},
     "output_type": "execute_result"
    }
   ],
   "source": [
    "ds[0]"
   ]
  }
 ],
 "metadata": {
  "kernelspec": {
   "display_name": "weave",
   "language": "python",
   "name": "python3"
  },
  "language_info": {
   "codemirror_mode": {
    "name": "ipython",
    "version": 3
   },
   "file_extension": ".py",
   "mimetype": "text/x-python",
   "name": "python",
   "nbconvert_exporter": "python",
   "pygments_lexer": "ipython3",
   "version": "3.11.8"
  }
 },
 "nbformat": 4,
 "nbformat_minor": 2
}
